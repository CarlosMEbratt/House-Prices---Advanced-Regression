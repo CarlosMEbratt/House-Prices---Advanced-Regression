{
 "cells": [
  {
   "cell_type": "markdown",
   "metadata": {},
   "source": [
    "# AML 3104 - Neural Networks and Deep Learning\n",
    "\n",
    "**Group members:**\n",
    "\n",
    "* Carlos Mauricio Munoz Ebratt\n",
    "* Luis Alejandro Gutierrez Hayek\n",
    "* Oscar Felipe Fernandez Tovar\n",
    "\n",
    "**Objective:**\n",
    "\n",
    "For this final project, we are asked to select a house Pricing dataset and solve either the classification or regression problem using Machine Learning or Deep Learning techniques, or a combination of both.\n",
    "\n",
    "\n",
    "**Steps to follow:**\n",
    "\n",
    "1. Dataset Selection\n",
    "Choose a dataset related to housing prices, either for regression or classification.\n",
    "2. Data Cleaning\n",
    "Address missing values, handle outliers, and ensure the dataset is ready for exploration.\n",
    "3. Data Exploration\n",
    "Utilize statistical and visual methods to understand the data. Plot distributions, correlations, and identify patterns.\n",
    "4. Feature Engineering\n",
    "Create new features, handle categorical variables, and transform data to improve model performance.\n",
    "5. Model Selection\n",
    "Choose multiple models for experimentation. For regression, you might use Linear Regression, Decision Trees, ANN models for regression . For classification, try Logistic Regression, Decision Trees, SVM, ANN.\n",
    "6. Hyperparameter Tuning\n",
    "Optimize model performance using techniques like GridSearchCV or RandomizedSearchCV to find the best hyperparameters.\n",
    "7. Pickle Files\n",
    "Save the trained models using the pickle library so they can be easily loaded for deployment.\n",
    "8. Flask Web Application\n",
    "Create a Flask web application. Design a simple UI where users can input data, and the application will return predictions.\n",
    "\n",
    "\n",
    "\n",
    "\n"
   ]
  },
  {
   "cell_type": "markdown",
   "metadata": {},
   "source": [
    "#### Step 0. Importing all necessary libraries"
   ]
  },
  {
   "cell_type": "code",
   "execution_count": 1,
   "metadata": {},
   "outputs": [],
   "source": [
    "# Importing all neccessary libraries\n",
    "\n",
    "import polar as pl\n",
    "import seaborn as sns\n",
    "import matplotlib.pyplot as plt\n",
    "import numpy as np\n",
    "\n",
    "\n",
    "from warnings import simplefilter\n",
    "\n",
    "# Suppress the warning\n",
    "simplefilter('ignore', category=UserWarning)"
   ]
  }
 ],
 "metadata": {
  "kernelspec": {
   "display_name": "Python 3",
   "language": "python",
   "name": "python3"
  },
  "language_info": {
   "codemirror_mode": {
    "name": "ipython",
    "version": 3
   },
   "file_extension": ".py",
   "mimetype": "text/x-python",
   "name": "python",
   "nbconvert_exporter": "python",
   "pygments_lexer": "ipython3",
   "version": "3.12.3"
  }
 },
 "nbformat": 4,
 "nbformat_minor": 2
}
